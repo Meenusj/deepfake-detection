{
  "nbformat": 4,
  "nbformat_minor": 0,
  "metadata": {
    "colab": {
      "provenance": [],
      "authorship_tag": "ABX9TyMhHavIwHSrrhWKqqhu5uW8",
      "include_colab_link": true
    },
    "kernelspec": {
      "name": "python3",
      "display_name": "Python 3"
    },
    "language_info": {
      "name": "python"
    }
  },
  "cells": [
    {
      "cell_type": "markdown",
      "metadata": {
        "id": "view-in-github",
        "colab_type": "text"
      },
      "source": [
        "<a href=\"https://colab.research.google.com/github/Meenusj/deepfake-detection/blob/main/fasttext.ipynb\" target=\"_parent\"><img src=\"https://colab.research.google.com/assets/colab-badge.svg\" alt=\"Open In Colab\"/></a>"
      ]
    },
    {
      "cell_type": "code",
      "source": [
        "!pip install fasttext\n"
      ],
      "metadata": {
        "colab": {
          "base_uri": "https://localhost:8080/"
        },
        "id": "b3-TKi5XMTm9",
        "outputId": "c48225ce-0054-469f-f8d2-f9d322175dd2"
      },
      "execution_count": null,
      "outputs": [
        {
          "output_type": "stream",
          "name": "stdout",
          "text": [
            "Collecting fasttext\n",
            "  Using cached fasttext-0.9.2-cp310-cp310-linux_x86_64.whl\n",
            "Requirement already satisfied: pybind11>=2.2 in /usr/local/lib/python3.10/dist-packages (from fasttext) (2.11.1)\n",
            "Requirement already satisfied: setuptools>=0.7.0 in /usr/local/lib/python3.10/dist-packages (from fasttext) (67.7.2)\n",
            "Requirement already satisfied: numpy in /usr/local/lib/python3.10/dist-packages (from fasttext) (1.23.5)\n",
            "Installing collected packages: fasttext\n",
            "Successfully installed fasttext-0.9.2\n"
          ]
        }
      ]
    },
    {
      "cell_type": "code",
      "source": [
        "!wget https://dl.fbaipublicfiles.com/fasttext/vectors-crawl/cc.en.300.bin.gz\n",
        "!gzip -d cc.en.300.bin.gz\n"
      ],
      "metadata": {
        "colab": {
          "base_uri": "https://localhost:8080/"
        },
        "id": "nd80A0i1MrLV",
        "outputId": "0c8c6711-2380-480f-aa0d-c05c17ea5965"
      },
      "execution_count": null,
      "outputs": [
        {
          "output_type": "stream",
          "name": "stdout",
          "text": [
            "--2023-12-18 09:12:34--  https://dl.fbaipublicfiles.com/fasttext/vectors-crawl/cc.en.300.bin.gz\n",
            "Resolving dl.fbaipublicfiles.com (dl.fbaipublicfiles.com)... 3.162.163.11, 3.162.163.51, 3.162.163.34, ...\n",
            "Connecting to dl.fbaipublicfiles.com (dl.fbaipublicfiles.com)|3.162.163.11|:443... connected.\n",
            "HTTP request sent, awaiting response... 200 OK\n",
            "Length: 4503593528 (4.2G) [application/octet-stream]\n",
            "Saving to: ‘cc.en.300.bin.gz’\n",
            "\n",
            "cc.en.300.bin.gz    100%[===================>]   4.19G   214MB/s    in 25s     \n",
            "\n",
            "2023-12-18 09:12:59 (171 MB/s) - ‘cc.en.300.bin.gz’ saved [4503593528/4503593528]\n",
            "\n"
          ]
        }
      ]
    },
    {
      "cell_type": "code",
      "source": [
        "import fasttext\n",
        "\n",
        "# Load the FastText model\n",
        "model = fasttext.load_model('/content/cc.en.300.bin')\n"
      ],
      "metadata": {
        "colab": {
          "base_uri": "https://localhost:8080/"
        },
        "id": "g5sEguyUNIAk",
        "outputId": "2f04e2e7-eed6-466c-ab3f-a98c6064dabc"
      },
      "execution_count": null,
      "outputs": [
        {
          "output_type": "stream",
          "name": "stderr",
          "text": [
            "Warning : `load_model` does not return WordVectorModel or SupervisedModel any more, but a `FastText` object which is very similar.\n"
          ]
        }
      ]
    },
    {
      "cell_type": "code",
      "source": [
        "\n",
        "\n",
        "# Get the vector for a word\n",
        "word_vector = model['apple']\n",
        "\n",
        "# Print the vector\n",
        "print(word_vector)"
      ],
      "metadata": {
        "colab": {
          "base_uri": "https://localhost:8080/"
        },
        "id": "2W5gR0XmNXGy",
        "outputId": "c006bec7-738f-4d6c-a7c8-ff5a342e264a"
      },
      "execution_count": null,
      "outputs": [
        {
          "output_type": "stream",
          "name": "stdout",
          "text": [
            "[ 1.44060925e-02 -1.85407065e-02  7.78168738e-02  9.62327123e-02\n",
            "  6.11829162e-02 -6.85825944e-02  1.25941798e-01 -4.56992090e-02\n",
            " -7.33104050e-02  5.03169633e-02 -8.20600335e-03 -5.56211993e-02\n",
            "  5.32698967e-02 -7.81057477e-02  1.74398586e-01  7.17482418e-02\n",
            " -1.70824379e-02  5.36853150e-02 -2.10725702e-02  1.60406176e-02\n",
            " -9.49636325e-02 -2.47338954e-02  5.45826275e-03  1.18501000e-02\n",
            " -1.02901105e-02  6.35251254e-02  1.13734238e-01  2.65568048e-02\n",
            " -7.99680129e-02  1.41424417e-01  8.90012011e-02  3.65432501e-02\n",
            "  6.33940659e-03  9.64735746e-02 -1.29564991e-02  3.49506177e-02\n",
            " -3.31422687e-02  7.74207637e-02  1.51700526e-02 -1.51615098e-01\n",
            " -4.81646955e-02 -2.98689269e-02 -5.41531220e-02  3.15663107e-02\n",
            " -1.33906275e-01  9.74259824e-02  1.13323759e-02  4.80277184e-03\n",
            "  3.18975598e-02 -9.40478221e-03 -6.07958622e-02 -1.25238776e-01\n",
            " -7.48398155e-02  1.12968003e-02 -4.23608907e-02  2.85868701e-02\n",
            "  1.52979255e-01 -8.28810781e-02 -1.90244764e-02  4.85403789e-03\n",
            " -1.11363363e-03  6.79939240e-02  1.00029007e-01  2.35142373e-03\n",
            " -2.04066113e-02  7.36881280e-03 -3.96827906e-02 -6.59832060e-02\n",
            " -1.17230639e-01 -3.11523415e-02 -5.65266237e-05 -1.97667301e-01\n",
            " -2.36867607e-01 -1.93594713e-02  1.51522189e-01  4.83437143e-02\n",
            " -2.73940153e-02  1.40568435e-01 -1.20157674e-02 -4.15096134e-02\n",
            "  5.66433035e-02 -9.69257727e-02 -1.33353308e-01  5.40888160e-02\n",
            " -9.72451791e-02 -4.87261824e-03  4.02610656e-03  6.24282882e-02\n",
            " -7.51169771e-02 -3.06929126e-02 -6.85966834e-02  3.54770161e-02\n",
            " -1.60456467e-02  3.08130234e-02  1.95112154e-02  5.05471118e-02\n",
            "  1.06178753e-01  5.60365319e-02 -3.77084017e-02  3.24022118e-03\n",
            "  6.09485991e-02  8.99301656e-03 -1.13485619e-01 -7.05756713e-04\n",
            "  3.69331390e-02  1.37582682e-02 -7.81467706e-02 -2.73405612e-02\n",
            " -9.90451500e-03 -1.38365313e-01  2.81181708e-02  9.83441919e-02\n",
            " -6.01846799e-02  3.39635052e-02 -2.82675177e-02  1.59183815e-02\n",
            "  1.12528086e-01  5.37541918e-02  7.36112520e-02  2.83864476e-02\n",
            " -2.37388387e-02  4.53846939e-02  9.58240628e-02  4.26535197e-02\n",
            " -2.50384696e-02  2.86201276e-02  1.35045629e-02  1.61646754e-02\n",
            " -4.32628170e-02 -1.96431801e-02 -1.64459601e-01  1.47979334e-02\n",
            " -2.98639704e-02 -2.49741785e-02 -2.06870586e-02 -3.92007753e-02\n",
            "  1.13755003e-01 -1.31059233e-02 -4.32253908e-03 -6.15059584e-02\n",
            " -8.60114470e-02  5.17142415e-02  1.74748655e-02  1.48645639e-01\n",
            " -5.09717762e-02 -7.30922967e-02 -1.40585646e-01 -7.27580488e-02\n",
            "  1.01901531e-01 -8.14515054e-02 -4.23575453e-02 -1.00337803e-01\n",
            "  5.77118173e-02 -5.14609143e-02  8.80436748e-02  1.10300384e-01\n",
            " -2.01392248e-02  5.44555858e-02 -1.40954843e-02  9.03964788e-02\n",
            " -4.86976206e-02  1.15899816e-01  9.57264155e-02 -8.55518207e-02\n",
            " -3.04484051e-02 -1.33399010e-01  1.35465294e-01 -4.21732292e-02\n",
            "  4.94636223e-02 -1.30140157e-02  1.80852208e-02  2.06501819e-02\n",
            " -1.78172756e-02 -3.84881124e-02  3.57544944e-02 -4.31247465e-02\n",
            " -4.18837834e-03  2.61007212e-02  1.14474773e-01 -9.62396152e-04\n",
            " -6.07409477e-02 -2.05549765e-02  1.30380113e-02 -9.60580558e-02\n",
            "  1.04324687e-02 -4.00647856e-02  1.35529742e-01  5.65512106e-03\n",
            "  1.13574870e-01 -1.74229428e-01  1.10973194e-01  3.47231403e-02\n",
            "  1.23664521e-01 -1.02595165e-01  1.73450336e-02 -5.85653223e-02\n",
            " -7.71259051e-03 -6.75856024e-02  1.38739541e-01 -6.68381155e-03\n",
            "  4.61061299e-02  6.32924289e-02  7.80826658e-02 -3.82092819e-02\n",
            " -8.62031151e-03 -4.87772189e-03  3.19621116e-02 -1.20040312e-01\n",
            "  8.82028490e-02  1.58660844e-01 -7.72660002e-02  7.17804134e-02\n",
            "  5.28248996e-02 -1.92698054e-02  8.07120185e-03 -4.82802503e-02\n",
            " -2.64838990e-03 -1.85797825e-01  6.84748888e-02 -1.20436633e-02\n",
            " -6.85223714e-02 -1.21090962e-02 -2.44120136e-02  6.07891977e-02\n",
            " -7.00195059e-02 -7.45323077e-02  4.33375463e-02  4.97581623e-03\n",
            " -5.18898144e-02 -2.54832581e-03 -1.04431346e-01 -2.24832818e-03\n",
            "  5.17856739e-02  1.45971358e-01 -2.22397503e-02  2.12932285e-02\n",
            "  7.39205629e-02 -9.31165963e-02  2.18062233e-02  9.45618451e-02\n",
            "  8.00500531e-03 -4.69844192e-02  7.26767536e-03 -6.47853166e-02\n",
            "  9.85854715e-02 -1.32013217e-01 -7.76301771e-02 -1.77311189e-02\n",
            " -6.07112497e-02  6.66809827e-03  1.01474121e-01 -1.19203161e-02\n",
            "  8.60355794e-02  3.29642966e-02  5.38020097e-02 -1.32494420e-03\n",
            " -6.18461370e-02 -1.15820661e-01  3.25563177e-02  2.34403461e-02\n",
            " -6.24596067e-02  2.11948380e-02  1.42712966e-02  3.40618864e-02\n",
            " -7.69443661e-02 -8.82400572e-02  1.40670314e-01 -9.66714509e-03\n",
            "  1.23329414e-02  7.89333135e-02  9.19570625e-02 -3.01382393e-02\n",
            " -1.88001722e-01  3.00374199e-02  6.22176146e-03  3.82506326e-02\n",
            " -3.74177806e-02 -2.38295272e-02  1.83460955e-02 -7.81906173e-02\n",
            "  1.66805238e-01 -1.10251032e-01 -5.13802208e-02 -6.82628155e-02\n",
            " -4.63812873e-02 -8.16629920e-03  8.60052109e-02 -7.10398778e-02\n",
            "  1.28923059e-01 -9.28181335e-02 -3.35308388e-02 -1.17431112e-01\n",
            " -1.18671894e-01  9.01212171e-02 -3.46100442e-02 -1.06595354e-02\n",
            " -4.64793518e-02  1.55412704e-01  9.06615630e-02 -7.71234781e-02]\n"
          ]
        }
      ]
    },
    {
      "cell_type": "code",
      "source": [
        "\n",
        "\n",
        "# # Get the entire vocabulary\n",
        "# words = model.get_words()\n",
        "\n",
        "# # Print each word and its vector\n",
        "# for word in words:\n",
        "#     vector = model.get_word_vector(word)\n",
        "#     print(f\"Word: {word}, Vector: {vector}\")\n",
        "\n",
        "import struct\n",
        "\n",
        "\n",
        "\n",
        "# Get the entire vocabulary\n",
        "words = model.get_words()\n",
        "\n",
        "# Specify the binary file path to save the output\n",
        "output_bin_file_path = 'word_vectors.bin'\n",
        "\n",
        "# Open the binary file in write mode\n",
        "with open(output_bin_file_path, 'wb') as bin_file:\n",
        "    for word in words:\n",
        "        vector = model.get_word_vector(word)\n",
        "\n",
        "        # Pack the word and vector as binary data\n",
        "        bin_data = struct.pack(f\"{len(word)}s{len(vector)}f\", word.encode('utf-8'), *vector)\n",
        "\n",
        "        # Write the binary data to the file\n",
        "        bin_file.write(bin_data)\n",
        "\n",
        "print(f\"Word vectors saved to binary file: {output_bin_file_path}\")\n",
        "\n",
        "\n"
      ],
      "metadata": {
        "colab": {
          "base_uri": "https://localhost:8080/"
        },
        "id": "-2NcFn1-NuIU",
        "outputId": "50b7bed6-953e-44ee-81e6-c32fd8b52ebe"
      },
      "execution_count": null,
      "outputs": [
        {
          "output_type": "stream",
          "name": "stdout",
          "text": [
            "Word vectors saved to binary file: word_vectors.bin\n"
          ]
        }
      ]
    }
  ]
}